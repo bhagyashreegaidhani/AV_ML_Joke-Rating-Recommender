{
 "cells": [
  {
   "cell_type": "markdown",
   "metadata": {},
   "source": [
    "#### Recommendation System using surprise"
   ]
  },
  {
   "cell_type": "markdown",
   "metadata": {},
   "source": [
    "##### Importing all libraries"
   ]
  },
  {
   "cell_type": "code",
   "execution_count": 10,
   "metadata": {},
   "outputs": [],
   "source": [
    "import pandas as pd\n",
    "import numpy as np\n",
    "import matplotlib.pyplot as plt\n",
    "from surprise import NormalPredictor\n",
    "from surprise import KNNBasic\n",
    "from surprise import KNNWithMeans\n",
    "from surprise import KNNWithZScore\n",
    "from surprise import KNNBaseline\n",
    "from surprise import SVD\n",
    "from surprise import Reader, Dataset, SVD\n",
    "from surprise.model_selection.validation import cross_validate\n",
    "from surprise.model_selection import GridSearchCV\n",
    "from surprise.model_selection import train_test_split"
   ]
  },
  {
   "cell_type": "code",
   "execution_count": 11,
   "metadata": {},
   "outputs": [],
   "source": [
    "train=pd.read_csv(\"train_MaefO4x/train.csv\")\n",
    "jokes=pd.read_csv(\"train_MaefO4x/jokes.csv\")\n",
    "test=pd.read_csv(\"test_MElQnvy/test.csv\")"
   ]
  },
  {
   "cell_type": "code",
   "execution_count": 12,
   "metadata": {},
   "outputs": [
    {
     "name": "stdout",
     "output_type": "stream",
     "text": [
      "<class 'pandas.core.frame.DataFrame'>\n",
      "RangeIndex: 1092059 entries, 0 to 1092058\n",
      "Data columns (total 4 columns):\n",
      " #   Column   Non-Null Count    Dtype  \n",
      "---  ------   --------------    -----  \n",
      " 0   id       1092059 non-null  object \n",
      " 1   user_id  1092059 non-null  int64  \n",
      " 2   joke_id  1092059 non-null  int64  \n",
      " 3   Rating   1092059 non-null  float64\n",
      "dtypes: float64(1), int64(2), object(1)\n",
      "memory usage: 33.3+ MB\n"
     ]
    }
   ],
   "source": [
    "train.info()"
   ]
  },
  {
   "cell_type": "code",
   "execution_count": 54,
   "metadata": {},
   "outputs": [
    {
     "data": {
      "text/html": [
       "<div>\n",
       "<style scoped>\n",
       "    .dataframe tbody tr th:only-of-type {\n",
       "        vertical-align: middle;\n",
       "    }\n",
       "\n",
       "    .dataframe tbody tr th {\n",
       "        vertical-align: top;\n",
       "    }\n",
       "\n",
       "    .dataframe thead th {\n",
       "        text-align: right;\n",
       "    }\n",
       "</style>\n",
       "<table border=\"1\" class=\"dataframe\">\n",
       "  <thead>\n",
       "    <tr style=\"text-align: right;\">\n",
       "      <th></th>\n",
       "      <th>joke_id</th>\n",
       "      <th>joke_text</th>\n",
       "    </tr>\n",
       "  </thead>\n",
       "  <tbody>\n",
       "    <tr>\n",
       "      <th>0</th>\n",
       "      <td>1</td>\n",
       "      <td>Q. What's O. J. Simpson's web address? A. Slas...</td>\n",
       "    </tr>\n",
       "    <tr>\n",
       "      <th>1</th>\n",
       "      <td>2</td>\n",
       "      <td>How many feminists does it take to screw in a ...</td>\n",
       "    </tr>\n",
       "    <tr>\n",
       "      <th>2</th>\n",
       "      <td>3</td>\n",
       "      <td>Q. Did you hear about the dyslexic devil worsh...</td>\n",
       "    </tr>\n",
       "    <tr>\n",
       "      <th>3</th>\n",
       "      <td>4</td>\n",
       "      <td>They asked the Japanese visitor if they have e...</td>\n",
       "    </tr>\n",
       "    <tr>\n",
       "      <th>4</th>\n",
       "      <td>5</td>\n",
       "      <td>Q: What did the blind person say when given so...</td>\n",
       "    </tr>\n",
       "    <tr>\n",
       "      <th>...</th>\n",
       "      <td>...</td>\n",
       "      <td>...</td>\n",
       "    </tr>\n",
       "    <tr>\n",
       "      <th>134</th>\n",
       "      <td>135</td>\n",
       "      <td>A blonde, brunette, and a red head are all lin...</td>\n",
       "    </tr>\n",
       "    <tr>\n",
       "      <th>135</th>\n",
       "      <td>136</td>\n",
       "      <td>America: 8:00 - Welcome to work! 12:00 - Lunch...</td>\n",
       "    </tr>\n",
       "    <tr>\n",
       "      <th>136</th>\n",
       "      <td>137</td>\n",
       "      <td>It was the day of the big sale. Rumors of the ...</td>\n",
       "    </tr>\n",
       "    <tr>\n",
       "      <th>137</th>\n",
       "      <td>138</td>\n",
       "      <td>Recently a teacher, a garbage collector, and a...</td>\n",
       "    </tr>\n",
       "    <tr>\n",
       "      <th>138</th>\n",
       "      <td>139</td>\n",
       "      <td>A little girl asked her father, \"Daddy? Do all...</td>\n",
       "    </tr>\n",
       "  </tbody>\n",
       "</table>\n",
       "<p>139 rows × 2 columns</p>\n",
       "</div>"
      ],
      "text/plain": [
       "     joke_id                                          joke_text\n",
       "0          1  Q. What's O. J. Simpson's web address? A. Slas...\n",
       "1          2  How many feminists does it take to screw in a ...\n",
       "2          3  Q. Did you hear about the dyslexic devil worsh...\n",
       "3          4  They asked the Japanese visitor if they have e...\n",
       "4          5  Q: What did the blind person say when given so...\n",
       "..       ...                                                ...\n",
       "134      135  A blonde, brunette, and a red head are all lin...\n",
       "135      136  America: 8:00 - Welcome to work! 12:00 - Lunch...\n",
       "136      137  It was the day of the big sale. Rumors of the ...\n",
       "137      138  Recently a teacher, a garbage collector, and a...\n",
       "138      139  A little girl asked her father, \"Daddy? Do all...\n",
       "\n",
       "[139 rows x 2 columns]"
      ]
     },
     "execution_count": 54,
     "metadata": {},
     "output_type": "execute_result"
    }
   ],
   "source": [
    "jokes"
   ]
  },
  {
   "cell_type": "code",
   "execution_count": 55,
   "metadata": {},
   "outputs": [
    {
     "data": {
      "text/plain": [
       "((1092059, 4), (537880, 4))"
      ]
     },
     "execution_count": 55,
     "metadata": {},
     "output_type": "execute_result"
    }
   ],
   "source": [
    "train.shape,test.shape"
   ]
  },
  {
   "cell_type": "code",
   "execution_count": 13,
   "metadata": {},
   "outputs": [
    {
     "data": {
      "text/plain": [
       "<matplotlib.axes._subplots.AxesSubplot at 0x1a1e8da19e8>"
      ]
     },
     "execution_count": 13,
     "metadata": {},
     "output_type": "execute_result"
    },
    {
     "data": {
      "image/png": "[encoded data removed]",
      "text/plain": [
       "<Figure size 432x288 with 1 Axes>"
      ]
     },
     "metadata": {
      "needs_background": "light"
     },
     "output_type": "display_data"
    }
   ],
   "source": [
    "train['Rating'].hist()"
   ]
  },
  {
   "cell_type": "code",
   "execution_count": 5,
   "metadata": {},
   "outputs": [],
   "source": [
    "train['Count']=train.groupby('joke_id')['Rating'].transform('nunique')"
   ]
  },
  {
   "cell_type": "code",
   "execution_count": 9,
   "metadata": {},
   "outputs": [
    {
     "data": {
      "text/html": [
       "<div>\n",
       "<style scoped>\n",
       "    .dataframe tbody tr th:only-of-type {\n",
       "        vertical-align: middle;\n",
       "    }\n",
       "\n",
       "    .dataframe tbody tr th {\n",
       "        vertical-align: top;\n",
       "    }\n",
       "\n",
       "    .dataframe thead th {\n",
       "        text-align: right;\n",
       "    }\n",
       "</style>\n",
       "<table border=\"1\" class=\"dataframe\">\n",
       "  <thead>\n",
       "    <tr style=\"text-align: right;\">\n",
       "      <th></th>\n",
       "      <th>id</th>\n",
       "      <th>user_id</th>\n",
       "      <th>joke_id</th>\n",
       "      <th>Rating</th>\n",
       "      <th>Count</th>\n",
       "    </tr>\n",
       "  </thead>\n",
       "  <tbody>\n",
       "    <tr>\n",
       "      <th>0</th>\n",
       "      <td>31030_110</td>\n",
       "      <td>31030</td>\n",
       "      <td>110</td>\n",
       "      <td>2.750</td>\n",
       "      <td>639</td>\n",
       "    </tr>\n",
       "    <tr>\n",
       "      <th>1</th>\n",
       "      <td>16144_109</td>\n",
       "      <td>16144</td>\n",
       "      <td>109</td>\n",
       "      <td>5.094</td>\n",
       "      <td>640</td>\n",
       "    </tr>\n",
       "    <tr>\n",
       "      <th>2</th>\n",
       "      <td>23098_6</td>\n",
       "      <td>23098</td>\n",
       "      <td>6</td>\n",
       "      <td>-6.438</td>\n",
       "      <td>641</td>\n",
       "    </tr>\n",
       "    <tr>\n",
       "      <th>3</th>\n",
       "      <td>14273_86</td>\n",
       "      <td>14273</td>\n",
       "      <td>86</td>\n",
       "      <td>4.406</td>\n",
       "      <td>635</td>\n",
       "    </tr>\n",
       "    <tr>\n",
       "      <th>4</th>\n",
       "      <td>18419_134</td>\n",
       "      <td>18419</td>\n",
       "      <td>134</td>\n",
       "      <td>9.375</td>\n",
       "      <td>635</td>\n",
       "    </tr>\n",
       "    <tr>\n",
       "      <th>...</th>\n",
       "      <td>...</td>\n",
       "      <td>...</td>\n",
       "      <td>...</td>\n",
       "      <td>...</td>\n",
       "      <td>...</td>\n",
       "    </tr>\n",
       "    <tr>\n",
       "      <th>1092054</th>\n",
       "      <td>9517_132</td>\n",
       "      <td>9517</td>\n",
       "      <td>132</td>\n",
       "      <td>3.156</td>\n",
       "      <td>639</td>\n",
       "    </tr>\n",
       "    <tr>\n",
       "      <th>1092055</th>\n",
       "      <td>27767_118</td>\n",
       "      <td>27767</td>\n",
       "      <td>118</td>\n",
       "      <td>-1.594</td>\n",
       "      <td>637</td>\n",
       "    </tr>\n",
       "    <tr>\n",
       "      <th>1092056</th>\n",
       "      <td>10580_81</td>\n",
       "      <td>10580</td>\n",
       "      <td>81</td>\n",
       "      <td>2.000</td>\n",
       "      <td>638</td>\n",
       "    </tr>\n",
       "    <tr>\n",
       "      <th>1092057</th>\n",
       "      <td>31007_119</td>\n",
       "      <td>31007</td>\n",
       "      <td>119</td>\n",
       "      <td>8.906</td>\n",
       "      <td>641</td>\n",
       "    </tr>\n",
       "    <tr>\n",
       "      <th>1092058</th>\n",
       "      <td>8420_98</td>\n",
       "      <td>8420</td>\n",
       "      <td>98</td>\n",
       "      <td>-3.344</td>\n",
       "      <td>636</td>\n",
       "    </tr>\n",
       "  </tbody>\n",
       "</table>\n",
       "<p>1092059 rows × 5 columns</p>\n",
       "</div>"
      ],
      "text/plain": [
       "                id  user_id  joke_id  Rating  Count\n",
       "0        31030_110    31030      110   2.750    639\n",
       "1        16144_109    16144      109   5.094    640\n",
       "2          23098_6    23098        6  -6.438    641\n",
       "3         14273_86    14273       86   4.406    635\n",
       "4        18419_134    18419      134   9.375    635\n",
       "...            ...      ...      ...     ...    ...\n",
       "1092054   9517_132     9517      132   3.156    639\n",
       "1092055  27767_118    27767      118  -1.594    637\n",
       "1092056   10580_81    10580       81   2.000    638\n",
       "1092057  31007_119    31007      119   8.906    641\n",
       "1092058    8420_98     8420       98  -3.344    636\n",
       "\n",
       "[1092059 rows x 5 columns]"
      ]
     },
     "execution_count": 9,
     "metadata": {},
     "output_type": "execute_result"
    }
   ],
   "source": [
    "train"
   ]
  },
  {
   "cell_type": "code",
   "execution_count": 5,
   "metadata": {},
   "outputs": [
    {
     "data": {
      "text/plain": [
       "Index(['id', 'user_id', 'joke_id', 'Rating'], dtype='object')"
      ]
     },
     "execution_count": 5,
     "metadata": {},
     "output_type": "execute_result"
    }
   ],
   "source": [
    "train.columns"
   ]
  },
  {
   "cell_type": "code",
   "execution_count": 20,
   "metadata": {},
   "outputs": [],
   "source": [
    "reader = Reader(rating_scale=(-10, 10))\n",
    "data = Dataset.load_from_df(train[['user_id', 'joke_id', 'Rating']], reader)\n",
    "train_set, test_set = train_test_split(data, test_size=0.2)"
   ]
  },
  {
   "cell_type": "markdown",
   "metadata": {},
   "source": [
    "##### Grid search on algortihm to identify optimal parameters"
   ]
  },
  {
   "cell_type": "code",
   "execution_count": 29,
   "metadata": {},
   "outputs": [],
   "source": [
    "pg_SVD = {'n_epochs': [10, 25, 50], 'lr_all': [0.001, 0.005, 0.01], \n",
    "              'reg_all': [0.1, 0.4, 0.08]}\n",
    "gs_SVD = GridSearchCV(SVD, pg_SVD, measures = ['rmse'], cv = 3)\n",
    "gs_SVD.fit(data)"
   ]
  },
  {
   "cell_type": "code",
   "execution_count": 30,
   "metadata": {},
   "outputs": [
    {
     "name": "stdout",
     "output_type": "stream",
     "text": [
      "4.082331322941369\n",
      "{'n_epochs': 25, 'lr_all': 0.001, 'reg_all': 0.1}\n"
     ]
    },
    {
     "data": {
      "text/plain": [
       "(None, None)"
      ]
     },
     "execution_count": 30,
     "metadata": {},
     "output_type": "execute_result"
    }
   ],
   "source": [
    "print(gs_SVD.best_score['rmse']),print(gs_SVD.best_params['rmse'])"
   ]
  },
  {
   "cell_type": "code",
   "execution_count": 23,
   "metadata": {},
   "outputs": [
    {
     "data": {
      "text/plain": [
       "<surprise.prediction_algorithms.matrix_factorization.SVD at 0x1a1f955ef28>"
      ]
     },
     "execution_count": 23,
     "metadata": {},
     "output_type": "execute_result"
    }
   ],
   "source": [
    "#params={'n_epochs': 25, 'lr_all': 0.001, 'reg_all': 0.1}\n",
    "svd=SVD(n_epochs=25,lr_all=0.001,reg_all=0.1,random_state=123)\n",
    "svd.fit(train_set)"
   ]
  },
  {
   "cell_type": "code",
   "execution_count": 24,
   "metadata": {},
   "outputs": [],
   "source": [
    "predictions=svd.test(test_set)"
   ]
  },
  {
   "cell_type": "code",
   "execution_count": 25,
   "metadata": {},
   "outputs": [
    {
     "name": "stdout",
     "output_type": "stream",
     "text": [
      "RMSE: 4.0460\n"
     ]
    },
    {
     "data": {
      "text/plain": [
       "4.04596759933299"
      ]
     },
     "execution_count": 25,
     "metadata": {},
     "output_type": "execute_result"
    }
   ],
   "source": [
    "from surprise import accuracy\n",
    "accuracy.rmse(predictions)"
   ]
  },
  {
   "cell_type": "code",
   "execution_count": 48,
   "metadata": {},
   "outputs": [
    {
     "data": {
      "text/html": [
       "<div>\n",
       "<style scoped>\n",
       "    .dataframe tbody tr th:only-of-type {\n",
       "        vertical-align: middle;\n",
       "    }\n",
       "\n",
       "    .dataframe tbody tr th {\n",
       "        vertical-align: top;\n",
       "    }\n",
       "\n",
       "    .dataframe thead th {\n",
       "        text-align: right;\n",
       "    }\n",
       "</style>\n",
       "<table border=\"1\" class=\"dataframe\">\n",
       "  <thead>\n",
       "    <tr style=\"text-align: right;\">\n",
       "      <th></th>\n",
       "      <th>id</th>\n",
       "      <th>user_id</th>\n",
       "      <th>joke_id</th>\n",
       "      <th>Rating</th>\n",
       "    </tr>\n",
       "  </thead>\n",
       "  <tbody>\n",
       "    <tr>\n",
       "      <th>0</th>\n",
       "      <td>31030_110</td>\n",
       "      <td>31030</td>\n",
       "      <td>110</td>\n",
       "      <td>2.750</td>\n",
       "    </tr>\n",
       "    <tr>\n",
       "      <th>1</th>\n",
       "      <td>16144_109</td>\n",
       "      <td>16144</td>\n",
       "      <td>109</td>\n",
       "      <td>5.094</td>\n",
       "    </tr>\n",
       "    <tr>\n",
       "      <th>2</th>\n",
       "      <td>23098_6</td>\n",
       "      <td>23098</td>\n",
       "      <td>6</td>\n",
       "      <td>-6.438</td>\n",
       "    </tr>\n",
       "    <tr>\n",
       "      <th>3</th>\n",
       "      <td>14273_86</td>\n",
       "      <td>14273</td>\n",
       "      <td>86</td>\n",
       "      <td>4.406</td>\n",
       "    </tr>\n",
       "    <tr>\n",
       "      <th>4</th>\n",
       "      <td>18419_134</td>\n",
       "      <td>18419</td>\n",
       "      <td>134</td>\n",
       "      <td>9.375</td>\n",
       "    </tr>\n",
       "    <tr>\n",
       "      <th>...</th>\n",
       "      <td>...</td>\n",
       "      <td>...</td>\n",
       "      <td>...</td>\n",
       "      <td>...</td>\n",
       "    </tr>\n",
       "    <tr>\n",
       "      <th>1092054</th>\n",
       "      <td>9517_132</td>\n",
       "      <td>9517</td>\n",
       "      <td>132</td>\n",
       "      <td>3.156</td>\n",
       "    </tr>\n",
       "    <tr>\n",
       "      <th>1092055</th>\n",
       "      <td>27767_118</td>\n",
       "      <td>27767</td>\n",
       "      <td>118</td>\n",
       "      <td>-1.594</td>\n",
       "    </tr>\n",
       "    <tr>\n",
       "      <th>1092056</th>\n",
       "      <td>10580_81</td>\n",
       "      <td>10580</td>\n",
       "      <td>81</td>\n",
       "      <td>2.000</td>\n",
       "    </tr>\n",
       "    <tr>\n",
       "      <th>1092057</th>\n",
       "      <td>31007_119</td>\n",
       "      <td>31007</td>\n",
       "      <td>119</td>\n",
       "      <td>8.906</td>\n",
       "    </tr>\n",
       "    <tr>\n",
       "      <th>1092058</th>\n",
       "      <td>8420_98</td>\n",
       "      <td>8420</td>\n",
       "      <td>98</td>\n",
       "      <td>-3.344</td>\n",
       "    </tr>\n",
       "  </tbody>\n",
       "</table>\n",
       "<p>1092059 rows × 4 columns</p>\n",
       "</div>"
      ],
      "text/plain": [
       "                id  user_id  joke_id  Rating\n",
       "0        31030_110    31030      110   2.750\n",
       "1        16144_109    16144      109   5.094\n",
       "2          23098_6    23098        6  -6.438\n",
       "3         14273_86    14273       86   4.406\n",
       "4        18419_134    18419      134   9.375\n",
       "...            ...      ...      ...     ...\n",
       "1092054   9517_132     9517      132   3.156\n",
       "1092055  27767_118    27767      118  -1.594\n",
       "1092056   10580_81    10580       81   2.000\n",
       "1092057  31007_119    31007      119   8.906\n",
       "1092058    8420_98     8420       98  -3.344\n",
       "\n",
       "[1092059 rows x 4 columns]"
      ]
     },
     "execution_count": 48,
     "metadata": {},
     "output_type": "execute_result"
    }
   ],
   "source": [
    "train"
   ]
  },
  {
   "cell_type": "markdown",
   "metadata": {},
   "source": [
    "##### Prediction on test data"
   ]
  },
  {
   "cell_type": "code",
   "execution_count": 51,
   "metadata": {},
   "outputs": [],
   "source": [
    "test_prediction=[(test.iloc[i,0],test.iloc[i,1],test.iloc[i,2],\n",
    "                  svd.predict(test.iloc[i,1],test.iloc[i,2]).est) for i in range(test.shape[0]) ]"
   ]
  },
  {
   "cell_type": "code",
   "execution_count": 52,
   "metadata": {},
   "outputs": [],
   "source": [
    "TestDF=pd.DataFrame(test_prediction,columns=['id','user_id','joke_id','Rating'])"
   ]
  },
  {
   "cell_type": "code",
   "execution_count": 56,
   "metadata": {},
   "outputs": [],
   "source": [
    "TestDF.to_csv(\"test_prediction.csv\",index=False,header=TestDF.columns)"
   ]
  },
  {
   "cell_type": "code",
   "execution_count": 57,
   "metadata": {},
   "outputs": [],
   "source": [
    "output=cross_validate(svd,data)"
   ]
  },
  {
   "cell_type": "code",
   "execution_count": 58,
   "metadata": {},
   "outputs": [
    {
     "data": {
      "text/plain": [
       "{'test_rmse': array([4.03403953, 4.05519826, 4.05025718, 4.03644837, 4.03664172]),\n",
       " 'test_mae': array([3.04893923, 3.05886954, 3.05964772, 3.04606559, 3.04618577]),\n",
       " 'fit_time': (62.6945526599884,\n",
       "  62.98267459869385,\n",
       "  63.14225101470947,\n",
       "  64.15850329399109,\n",
       "  63.346858978271484),\n",
       " 'test_time': (2.320797920227051,\n",
       "  2.3148372173309326,\n",
       "  2.308819532394409,\n",
       "  2.305837869644165,\n",
       "  1.5099537372589111)}"
      ]
     },
     "execution_count": 58,
     "metadata": {},
     "output_type": "execute_result"
    }
   ],
   "source": [
    "output"
   ]
  },
  {
   "cell_type": "code",
   "execution_count": null,
   "metadata": {},
   "outputs": [],
   "source": [
    "# benchmark=[]\n",
    "# for algorithm in [SVD(), SVDpp(), SlopeOne(), NMF(), NormalPredictor(), KNNBaseline(), KNNBasic(), KNNWithMeans(), KNNWithZScore(), BaselineOnly(), CoClustering()]:\n",
    "#     # Perform cross validation\n",
    "#     results = cross_validate(algorithm, data, measures=['RMSE'], cv=3, verbose=False)\n",
    "    \n",
    "#     # Get results & append algorithm name\n",
    "#     tmp = pd.DataFrame.from_dict(results).mean(axis=0)\n",
    "#     tmp = tmp.append(pd.Series([str(algorithm).split(' ')[0].split('.')[-1]], index=['Algorithm']))\n",
    "#     benchmark.append(tmp)"
   ]
  }
 ],
 "metadata": {
  "kernelspec": {
   "display_name": "Python 3",
   "language": "python",
   "name": "python3"
  },
  "language_info": {
   "codemirror_mode": {
    "name": "ipython",
    "version": 3
   },
   "file_extension": ".py",
   "mimetype": "text/x-python",
   "name": "python",
   "nbconvert_exporter": "python",
   "pygments_lexer": "ipython3",
   "version": "3.7.3"
  }
 },
 "nbformat": 4,
 "nbformat_minor": 2
}
